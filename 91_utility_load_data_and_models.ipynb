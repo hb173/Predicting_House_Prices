{
 "cells": [
  {
   "cell_type": "code",
   "execution_count": 2,
   "metadata": {},
   "outputs": [],
   "source": [
    "# import packages\n",
    "import pandas as pd\n",
    "import numpy as np\n",
    "import pickle  # for saving and loading models\n",
    "from lightgbm.sklearn import LGBMRegressor  # for Light GBM\n",
    "from sklearn.metrics import r2_score  # for R squared\n",
    "from sklearn.metrics import mean_squared_error as rmse_score  # for root mean squared error"
   ]
  },
  {
   "cell_type": "markdown",
   "metadata": {},
   "source": [
    "## Load Models\n",
    "- The final models are:\n",
    "  - lgbm_all_data\n",
    "  - lgbm_using_GA\n",
    "  - lgbm_using_CA"
   ]
  },
  {
   "cell_type": "code",
   "execution_count": null,
   "metadata": {},
   "outputs": [],
   "source": [
    "# functions to save / load pickle objects\n",
    "def save_obj(obj, filename):\n",
    "    try:\n",
    "        with open(filename, \"wb\") as f:\n",
    "            pickle.dump(obj, f, protocol=pickle.HIGHEST_PROTOCOL)\n",
    "    except Exception as ex:\n",
    "        print(\"Error:\", ex)\n",
    "\n",
    "\n",
    "def load_obj(filename):\n",
    "    try:\n",
    "        with open(filename, \"rb\") as f:\n",
    "            return pickle.load(f)\n",
    "    except Exception as ex:\n",
    "        print(\"Error:\", ex)\n"
   ]
  },
  {
   "cell_type": "code",
   "execution_count": null,
   "metadata": {},
   "outputs": [],
   "source": [
    "# Model trained using all data\n",
    "lgbm_all_data = load_obj('../models/lgbm_all_data.pickle')\n",
    "\n",
    "# Model trained using only data from Georgia\n",
    "lgbm_using_GA = load_obj('../models/lgbm_using_GA.pickle')\n",
    "\n",
    "# Model trained using only data from California\n",
    "lgbm_using_CA = load_obj('../models/lgbm_using_CA.pickle')\n"
   ]
  },
  {
   "cell_type": "markdown",
   "metadata": {},
   "source": [
    "## Load Data\n",
    "- I modified the original X_train, X_validate, X_test, etc. a little\n",
    "- The original data sets produced errors when training LGBM\n",
    "- Use the data sets below for LGBM"
   ]
  },
  {
   "cell_type": "code",
   "execution_count": 6,
   "metadata": {},
   "outputs": [],
   "source": [
    "# I'm including these codes for convenience\n",
    "# It's totally possible that you might not need all these data sets for your part of the validation\n",
    "# Change directory path if needed\n",
    "\n",
    "# Data with state, county, city info\n",
    "# Use these data sets with lgbm_all_data\n",
    "X_train = pd.read_csv('../large_data_files/Data_for_presentation/X_train_for_LGBM.csv')\n",
    "X_train_all=pd.read_csv('../large_data_files/Data_for_presentation/X_train_all_for_LGBM.csv')\n",
    "X_test=pd.read_csv('../large_data_files/Data_for_presentation/X_test_for_LGBM.csv')\n",
    "\n",
    "# Data without state, county, city info\n",
    "# Use these data sets with lgbm_using_CA or lgbm_using_GA\n",
    "X_test_noGeo=pd.read_csv('../large_data_files/Data_for_presentation/X_test_noGeo.csv')\n",
    "X_train_all_noGeo=pd.read_csv('../large_data_files/Data_for_presentation/X_train_all_noGeo.csv')\n",
    "X_train_GA=pd.read_csv('../large_data_files/Data_for_presentation/X_train_GA_noGeo.csv')\n",
    "X_train_CA=pd.read_csv('../large_data_files/Data_for_presentation/X_train_CA_noGeo.csv')\n"
   ]
  }
 ],
 "metadata": {
  "interpreter": {
   "hash": "a5304ae18d49e25f84514d65bac6a749711e4958fd015312bd1e570e768ce6e0"
  },
  "kernelspec": {
   "display_name": "Python 3.9.9 ('general')",
   "language": "python",
   "name": "python3"
  },
  "language_info": {
   "codemirror_mode": {
    "name": "ipython",
    "version": 3
   },
   "file_extension": ".py",
   "mimetype": "text/x-python",
   "name": "python",
   "nbconvert_exporter": "python",
   "pygments_lexer": "ipython3",
   "version": "3.9.9"
  },
  "orig_nbformat": 4
 },
 "nbformat": 4,
 "nbformat_minor": 2
}
