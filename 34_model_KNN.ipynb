{
 "cells": [
  {
   "cell_type": "markdown",
   "metadata": {},
   "source": [
    "## K-nearest neighbors\n",
    "\n",
    "Check the performance of the model using KNN.\n",
    "\n",
    "1. with default setting\n",
    "2. with optimized hyperparamters using grid search\n",
    "3. Baseline model with default setting\n",
    "4. Baseline model with optimized hyperparamters using grid search "
   ]
  },
  {
   "cell_type": "code",
   "execution_count": 1,
   "metadata": {},
   "outputs": [],
   "source": [
    "import pandas as pd\n",
    "import numpy as np\n",
    "from pathlib import Path\n",
    "import warnings\n",
    "warnings.filterwarnings('ignore')"
   ]
  },
  {
   "cell_type": "code",
   "execution_count": 3,
   "metadata": {},
   "outputs": [],
   "source": [
    "# import data\n",
    "PARENT = \"Predicting_House_Prices\"\n",
    "path = Path(PARENT).parent / \"../Data/X_train_model2.csv\"\n",
    "X_train = pd.read_csv(path)\n",
    "\n",
    "path2 = Path(PARENT).parent / \"../Data/y_train_model2.csv\"\n",
    "y_train = pd.read_csv(path2)\n",
    "\n",
    "path3 = Path(PARENT).parent / \"../Data/X_valid_model2.csv\"\n",
    "X_valid = pd.read_csv(path3)\n",
    "\n",
    "path4 = Path(PARENT).parent / \"../Data/y_valid_model2.csv\"\n",
    "y_valid = pd.read_csv(path4)"
   ]
  },
  {
   "cell_type": "code",
   "execution_count": 4,
   "metadata": {},
   "outputs": [],
   "source": [
    "X_train = X_train.drop(columns=\"Unnamed: 0\")\n",
    "y_train = y_train.drop(columns=\"Unnamed: 0\")\n",
    "X_valid = X_valid.drop(columns=\"Unnamed: 0\")\n",
    "y_valid = y_valid.drop(columns=\"Unnamed: 0\")"
   ]
  },
  {
   "cell_type": "code",
   "execution_count": 5,
   "metadata": {},
   "outputs": [
    {
     "data": {
      "text/html": [
       "<div>\n",
       "<style scoped>\n",
       "    .dataframe tbody tr th:only-of-type {\n",
       "        vertical-align: middle;\n",
       "    }\n",
       "\n",
       "    .dataframe tbody tr th {\n",
       "        vertical-align: top;\n",
       "    }\n",
       "\n",
       "    .dataframe thead th {\n",
       "        text-align: right;\n",
       "    }\n",
       "</style>\n",
       "<table border=\"1\" class=\"dataframe\">\n",
       "  <thead>\n",
       "    <tr style=\"text-align: right;\">\n",
       "      <th></th>\n",
       "      <th>yearBuilt</th>\n",
       "      <th>livingArea</th>\n",
       "      <th>bathrooms</th>\n",
       "      <th>bedrooms</th>\n",
       "      <th>parking</th>\n",
       "      <th>garageSpaces</th>\n",
       "      <th>hasGarage</th>\n",
       "      <th>pool</th>\n",
       "      <th>spa</th>\n",
       "      <th>isNewConstruction</th>\n",
       "      <th>...</th>\n",
       "      <th>county_Wayne County</th>\n",
       "      <th>county_Wheeler County</th>\n",
       "      <th>county_White County</th>\n",
       "      <th>county_Whitfield County</th>\n",
       "      <th>county_Wilcox County</th>\n",
       "      <th>county_Wilkes County</th>\n",
       "      <th>county_Wilkinson County</th>\n",
       "      <th>county_Worth County</th>\n",
       "      <th>county_Yolo County</th>\n",
       "      <th>county_Yuba County</th>\n",
       "    </tr>\n",
       "  </thead>\n",
       "  <tbody>\n",
       "    <tr>\n",
       "      <th>count</th>\n",
       "      <td>6537.000000</td>\n",
       "      <td>6537.000000</td>\n",
       "      <td>6537.000000</td>\n",
       "      <td>6537.000000</td>\n",
       "      <td>6537.000000</td>\n",
       "      <td>6537.000000</td>\n",
       "      <td>6537.000000</td>\n",
       "      <td>6537.000000</td>\n",
       "      <td>6537.000000</td>\n",
       "      <td>6537.000000</td>\n",
       "      <td>...</td>\n",
       "      <td>6537.000000</td>\n",
       "      <td>6537.000000</td>\n",
       "      <td>6537.000000</td>\n",
       "      <td>6537.000000</td>\n",
       "      <td>6537.000000</td>\n",
       "      <td>6537.000000</td>\n",
       "      <td>6537.000000</td>\n",
       "      <td>6537.000000</td>\n",
       "      <td>6537.000000</td>\n",
       "      <td>6537.000000</td>\n",
       "    </tr>\n",
       "    <tr>\n",
       "      <th>mean</th>\n",
       "      <td>-0.003228</td>\n",
       "      <td>-0.006875</td>\n",
       "      <td>-0.000329</td>\n",
       "      <td>0.001178</td>\n",
       "      <td>0.769772</td>\n",
       "      <td>0.003339</td>\n",
       "      <td>0.587578</td>\n",
       "      <td>0.134465</td>\n",
       "      <td>0.177910</td>\n",
       "      <td>0.030442</td>\n",
       "      <td>...</td>\n",
       "      <td>0.000765</td>\n",
       "      <td>0.000306</td>\n",
       "      <td>0.000612</td>\n",
       "      <td>0.003365</td>\n",
       "      <td>0.000153</td>\n",
       "      <td>0.000612</td>\n",
       "      <td>0.000306</td>\n",
       "      <td>0.000459</td>\n",
       "      <td>0.003518</td>\n",
       "      <td>0.002754</td>\n",
       "    </tr>\n",
       "    <tr>\n",
       "      <th>std</th>\n",
       "      <td>1.006085</td>\n",
       "      <td>0.025320</td>\n",
       "      <td>0.992459</td>\n",
       "      <td>0.986828</td>\n",
       "      <td>0.421011</td>\n",
       "      <td>1.005247</td>\n",
       "      <td>0.492308</td>\n",
       "      <td>0.341178</td>\n",
       "      <td>0.382467</td>\n",
       "      <td>0.171814</td>\n",
       "      <td>...</td>\n",
       "      <td>0.027648</td>\n",
       "      <td>0.017490</td>\n",
       "      <td>0.024731</td>\n",
       "      <td>0.057919</td>\n",
       "      <td>0.012368</td>\n",
       "      <td>0.024731</td>\n",
       "      <td>0.017490</td>\n",
       "      <td>0.021419</td>\n",
       "      <td>0.059216</td>\n",
       "      <td>0.052406</td>\n",
       "    </tr>\n",
       "    <tr>\n",
       "      <th>min</th>\n",
       "      <td>-6.093072</td>\n",
       "      <td>-0.041445</td>\n",
       "      <td>-1.262212</td>\n",
       "      <td>-1.990809</td>\n",
       "      <td>0.000000</td>\n",
       "      <td>-0.894006</td>\n",
       "      <td>0.000000</td>\n",
       "      <td>0.000000</td>\n",
       "      <td>0.000000</td>\n",
       "      <td>0.000000</td>\n",
       "      <td>...</td>\n",
       "      <td>0.000000</td>\n",
       "      <td>0.000000</td>\n",
       "      <td>0.000000</td>\n",
       "      <td>0.000000</td>\n",
       "      <td>0.000000</td>\n",
       "      <td>0.000000</td>\n",
       "      <td>0.000000</td>\n",
       "      <td>0.000000</td>\n",
       "      <td>0.000000</td>\n",
       "      <td>0.000000</td>\n",
       "    </tr>\n",
       "    <tr>\n",
       "      <th>25%</th>\n",
       "      <td>-0.668783</td>\n",
       "      <td>-0.020694</td>\n",
       "      <td>-0.529300</td>\n",
       "      <td>-0.344171</td>\n",
       "      <td>1.000000</td>\n",
       "      <td>-0.894006</td>\n",
       "      <td>0.000000</td>\n",
       "      <td>0.000000</td>\n",
       "      <td>0.000000</td>\n",
       "      <td>0.000000</td>\n",
       "      <td>...</td>\n",
       "      <td>0.000000</td>\n",
       "      <td>0.000000</td>\n",
       "      <td>0.000000</td>\n",
       "      <td>0.000000</td>\n",
       "      <td>0.000000</td>\n",
       "      <td>0.000000</td>\n",
       "      <td>0.000000</td>\n",
       "      <td>0.000000</td>\n",
       "      <td>0.000000</td>\n",
       "      <td>0.000000</td>\n",
       "    </tr>\n",
       "    <tr>\n",
       "      <th>50%</th>\n",
       "      <td>0.091309</td>\n",
       "      <td>-0.012452</td>\n",
       "      <td>-0.529300</td>\n",
       "      <td>-0.344171</td>\n",
       "      <td>1.000000</td>\n",
       "      <td>-0.083681</td>\n",
       "      <td>1.000000</td>\n",
       "      <td>0.000000</td>\n",
       "      <td>0.000000</td>\n",
       "      <td>0.000000</td>\n",
       "      <td>...</td>\n",
       "      <td>0.000000</td>\n",
       "      <td>0.000000</td>\n",
       "      <td>0.000000</td>\n",
       "      <td>0.000000</td>\n",
       "      <td>0.000000</td>\n",
       "      <td>0.000000</td>\n",
       "      <td>0.000000</td>\n",
       "      <td>0.000000</td>\n",
       "      <td>0.000000</td>\n",
       "      <td>0.000000</td>\n",
       "    </tr>\n",
       "    <tr>\n",
       "      <th>75%</th>\n",
       "      <td>0.782301</td>\n",
       "      <td>-0.000236</td>\n",
       "      <td>0.203613</td>\n",
       "      <td>0.479148</td>\n",
       "      <td>1.000000</td>\n",
       "      <td>0.726645</td>\n",
       "      <td>1.000000</td>\n",
       "      <td>0.000000</td>\n",
       "      <td>0.000000</td>\n",
       "      <td>0.000000</td>\n",
       "      <td>...</td>\n",
       "      <td>0.000000</td>\n",
       "      <td>0.000000</td>\n",
       "      <td>0.000000</td>\n",
       "      <td>0.000000</td>\n",
       "      <td>0.000000</td>\n",
       "      <td>0.000000</td>\n",
       "      <td>0.000000</td>\n",
       "      <td>0.000000</td>\n",
       "      <td>0.000000</td>\n",
       "      <td>0.000000</td>\n",
       "    </tr>\n",
       "    <tr>\n",
       "      <th>max</th>\n",
       "      <td>1.576942</td>\n",
       "      <td>0.610073</td>\n",
       "      <td>12.663129</td>\n",
       "      <td>8.712339</td>\n",
       "      <td>1.000000</td>\n",
       "      <td>16.933163</td>\n",
       "      <td>1.000000</td>\n",
       "      <td>1.000000</td>\n",
       "      <td>1.000000</td>\n",
       "      <td>1.000000</td>\n",
       "      <td>...</td>\n",
       "      <td>1.000000</td>\n",
       "      <td>1.000000</td>\n",
       "      <td>1.000000</td>\n",
       "      <td>1.000000</td>\n",
       "      <td>1.000000</td>\n",
       "      <td>1.000000</td>\n",
       "      <td>1.000000</td>\n",
       "      <td>1.000000</td>\n",
       "      <td>1.000000</td>\n",
       "      <td>1.000000</td>\n",
       "    </tr>\n",
       "  </tbody>\n",
       "</table>\n",
       "<p>8 rows × 1724 columns</p>\n",
       "</div>"
      ],
      "text/plain": [
       "         yearBuilt   livingArea    bathrooms     bedrooms      parking  \\\n",
       "count  6537.000000  6537.000000  6537.000000  6537.000000  6537.000000   \n",
       "mean     -0.003228    -0.006875    -0.000329     0.001178     0.769772   \n",
       "std       1.006085     0.025320     0.992459     0.986828     0.421011   \n",
       "min      -6.093072    -0.041445    -1.262212    -1.990809     0.000000   \n",
       "25%      -0.668783    -0.020694    -0.529300    -0.344171     1.000000   \n",
       "50%       0.091309    -0.012452    -0.529300    -0.344171     1.000000   \n",
       "75%       0.782301    -0.000236     0.203613     0.479148     1.000000   \n",
       "max       1.576942     0.610073    12.663129     8.712339     1.000000   \n",
       "\n",
       "       garageSpaces    hasGarage         pool          spa  isNewConstruction  \\\n",
       "count   6537.000000  6537.000000  6537.000000  6537.000000        6537.000000   \n",
       "mean       0.003339     0.587578     0.134465     0.177910           0.030442   \n",
       "std        1.005247     0.492308     0.341178     0.382467           0.171814   \n",
       "min       -0.894006     0.000000     0.000000     0.000000           0.000000   \n",
       "25%       -0.894006     0.000000     0.000000     0.000000           0.000000   \n",
       "50%       -0.083681     1.000000     0.000000     0.000000           0.000000   \n",
       "75%        0.726645     1.000000     0.000000     0.000000           0.000000   \n",
       "max       16.933163     1.000000     1.000000     1.000000           1.000000   \n",
       "\n",
       "       ...  county_Wayne County  county_Wheeler County  county_White County  \\\n",
       "count  ...          6537.000000            6537.000000          6537.000000   \n",
       "mean   ...             0.000765               0.000306             0.000612   \n",
       "std    ...             0.027648               0.017490             0.024731   \n",
       "min    ...             0.000000               0.000000             0.000000   \n",
       "25%    ...             0.000000               0.000000             0.000000   \n",
       "50%    ...             0.000000               0.000000             0.000000   \n",
       "75%    ...             0.000000               0.000000             0.000000   \n",
       "max    ...             1.000000               1.000000             1.000000   \n",
       "\n",
       "       county_Whitfield County  county_Wilcox County  county_Wilkes County  \\\n",
       "count              6537.000000           6537.000000           6537.000000   \n",
       "mean                  0.003365              0.000153              0.000612   \n",
       "std                   0.057919              0.012368              0.024731   \n",
       "min                   0.000000              0.000000              0.000000   \n",
       "25%                   0.000000              0.000000              0.000000   \n",
       "50%                   0.000000              0.000000              0.000000   \n",
       "75%                   0.000000              0.000000              0.000000   \n",
       "max                   1.000000              1.000000              1.000000   \n",
       "\n",
       "       county_Wilkinson County  county_Worth County  county_Yolo County  \\\n",
       "count              6537.000000          6537.000000         6537.000000   \n",
       "mean                  0.000306             0.000459            0.003518   \n",
       "std                   0.017490             0.021419            0.059216   \n",
       "min                   0.000000             0.000000            0.000000   \n",
       "25%                   0.000000             0.000000            0.000000   \n",
       "50%                   0.000000             0.000000            0.000000   \n",
       "75%                   0.000000             0.000000            0.000000   \n",
       "max                   1.000000             1.000000            1.000000   \n",
       "\n",
       "       county_Yuba County  \n",
       "count         6537.000000  \n",
       "mean             0.002754  \n",
       "std              0.052406  \n",
       "min              0.000000  \n",
       "25%              0.000000  \n",
       "50%              0.000000  \n",
       "75%              0.000000  \n",
       "max              1.000000  \n",
       "\n",
       "[8 rows x 1724 columns]"
      ]
     },
     "execution_count": 5,
     "metadata": {},
     "output_type": "execute_result"
    }
   ],
   "source": [
    "X_valid.describe()"
   ]
  },
  {
   "cell_type": "code",
   "execution_count": 20,
   "metadata": {},
   "outputs": [
    {
     "name": "stdout",
     "output_type": "stream",
     "text": [
      "(15421, 1759) (6609, 1759)\n"
     ]
    }
   ],
   "source": [
    "print(X_train.shape, X_valid.shape)"
   ]
  },
  {
   "cell_type": "markdown",
   "metadata": {},
   "source": [
    "### with default setting"
   ]
  },
  {
   "cell_type": "code",
   "execution_count": 7,
   "metadata": {},
   "outputs": [
    {
     "name": "stdout",
     "output_type": "stream",
     "text": [
      " Mean Squared Error : 1552023753043.586 \n",
      " Score : 0.54149 \n",
      "\n"
     ]
    }
   ],
   "source": [
    "from sklearn.neighbors import KNeighborsRegressor\n",
    "from sklearn.metrics import mean_squared_error\n",
    "\n",
    "knn = KNeighborsRegressor()\n",
    "knn.fit(X_train, y_train)\n",
    "\n",
    "knn_score = knn.score(X_valid, y_valid)\n",
    "knn_preds = knn.predict(X_valid)\n",
    "\n",
    "print(\n",
    "    f\" Mean Squared Error : {mean_squared_error(y_valid, knn_preds)} \\n\"\n",
    "    f\" Score : {knn_score:.5f} \\n\",\n",
    ")"
   ]
  },
  {
   "cell_type": "code",
   "execution_count": 8,
   "metadata": {},
   "outputs": [
    {
     "data": {
      "text/plain": [
       "1245802.4534586477"
      ]
     },
     "execution_count": 8,
     "metadata": {},
     "output_type": "execute_result"
    }
   ],
   "source": [
    "(mean_squared_error(y_valid, knn_preds))**0.5"
   ]
  },
  {
   "cell_type": "markdown",
   "metadata": {},
   "source": [
    "### with optimized hyperparamters using grid search"
   ]
  },
  {
   "cell_type": "code",
   "execution_count": 40,
   "metadata": {},
   "outputs": [
    {
     "name": "stdout",
     "output_type": "stream",
     "text": [
      "4575 4575\n"
     ]
    }
   ],
   "source": [
    "from sklearn.model_selection import train_test_split\n",
    "\n",
    "# 30% of training data is used for hyperparameter tuning for efficient search\n",
    "X_temp, _, y_temp, _ = train_test_split(X_train, y_train, random_state=0, test_size=0.7)\n",
    "print(len(X_temp), len(y_temp))"
   ]
  },
  {
   "cell_type": "code",
   "execution_count": 41,
   "metadata": {},
   "outputs": [],
   "source": [
    "# List Hyperparameters\n",
    "grid_params = { 'n_neighbors' : np.arange(1, 16),\n",
    "                'weights' : ['uniform','distance'],\n",
    "                'metric' : ['minkowski','euclidean','manhattan'],\n",
    "                'p': [1,2]}"
   ]
  },
  {
   "cell_type": "code",
   "execution_count": 42,
   "metadata": {},
   "outputs": [
    {
     "name": "stdout",
     "output_type": "stream",
     "text": [
      "Fitting 3 folds for each of 180 candidates, totalling 540 fits\n"
     ]
    }
   ],
   "source": [
    "from sklearn.model_selection import GridSearchCV\n",
    "\n",
    "# Use GridSearch\n",
    "gs = GridSearchCV(KNeighborsRegressor(), grid_params, verbose = 1, cv = 3, n_jobs = -1)\n",
    "\n",
    "g_res = gs.fit(X_temp, y_temp)"
   ]
  },
  {
   "cell_type": "code",
   "execution_count": 43,
   "metadata": {},
   "outputs": [
    {
     "data": {
      "text/plain": [
       "{'metric': 'minkowski', 'n_neighbors': 9, 'p': 1, 'weights': 'distance'}"
      ]
     },
     "execution_count": 43,
     "metadata": {},
     "output_type": "execute_result"
    }
   ],
   "source": [
    "# Print The value of best Hyperparameters\n",
    "g_res.best_params_"
   ]
  },
  {
   "cell_type": "code",
   "execution_count": 9,
   "metadata": {},
   "outputs": [
    {
     "name": "stdout",
     "output_type": "stream",
     "text": [
      " Mean Squared Error : 1317532847769.4202 \n",
      " Score : 0.61077 \n",
      "\n"
     ]
    }
   ],
   "source": [
    "# KNN with optimized parameters\n",
    "knn2 = KNeighborsRegressor(n_neighbors = 9, weights = 'distance', metric = 'minkowski', p = 1)\n",
    "knn2.fit(X_train, y_train)\n",
    "\n",
    "knn2_score = knn2.score(X_valid, y_valid)\n",
    "knn2_preds = knn2.predict(X_valid)\n",
    "\n",
    "print(\n",
    "    f\" Mean Squared Error : {mean_squared_error(y_valid, knn2_preds)} \\n\"\n",
    "    f\" Score : {knn2_score:.5f} \\n\",\n",
    ")"
   ]
  },
  {
   "cell_type": "code",
   "execution_count": 10,
   "metadata": {},
   "outputs": [
    {
     "data": {
      "text/plain": [
       "1147838.3369488146"
      ]
     },
     "execution_count": 10,
     "metadata": {},
     "output_type": "execute_result"
    }
   ],
   "source": [
    "(mean_squared_error(y_valid, knn2_preds))**0.5"
   ]
  },
  {
   "cell_type": "code",
   "execution_count": 46,
   "metadata": {},
   "outputs": [
    {
     "name": "stdout",
     "output_type": "stream",
     "text": [
      " Mean Squared Error : 1627688565616.9204 \n",
      " Score : 0.53944 \n",
      "\n"
     ]
    }
   ],
   "source": [
    "# KNN with optimized parameters explored before changing preprocessing \n",
    "knn3 = KNeighborsRegressor(n_neighbors = 40, weights = 'distance', metric = 'minkowski', p = 1, leaf_size = 15)\n",
    "knn3.fit(X_train, y_train)\n",
    "\n",
    "knn3_score = knn3.score(X_valid, y_valid)\n",
    "knn3_preds = knn2.predict(X_valid)\n",
    "\n",
    "print(\n",
    "    f\" Mean Squared Error : {mean_squared_error(y_valid, knn3_preds)} \\n\"\n",
    "    f\" Score : {knn3_score:.5f} \\n\",\n",
    ")"
   ]
  },
  {
   "cell_type": "code",
   "execution_count": 11,
   "metadata": {},
   "outputs": [],
   "source": [
    "import pickle\n",
    "\n",
    "# functions to save / load pickle objects\n",
    "def save_obj(obj, filename):\n",
    "    try:\n",
    "        with open(filename, \"wb\") as f:\n",
    "            pickle.dump(obj, f, protocol=pickle.HIGHEST_PROTOCOL)\n",
    "    except Exception as ex:\n",
    "        print(\"Error:\", ex)\n",
    "\n",
    "\n",
    "def load_obj(filename):\n",
    "    try:\n",
    "        with open(filename, \"rb\") as f:\n",
    "            return pickle.load(f)\n",
    "    except Exception as ex:\n",
    "        print(\"Error:\", ex)"
   ]
  },
  {
   "cell_type": "code",
   "execution_count": 12,
   "metadata": {},
   "outputs": [],
   "source": [
    "# save model\n",
    "save_obj(knn2, '../Code/KNN.pickle')"
   ]
  },
  {
   "cell_type": "markdown",
   "metadata": {},
   "source": [
    "### Baseline model with default setting"
   ]
  },
  {
   "cell_type": "code",
   "execution_count": 47,
   "metadata": {},
   "outputs": [],
   "source": [
    "# subsetting for only necessary vairables\n",
    "X_train_sub = X_train.filter([\"livingArea\", \"bathrooms\", \"bedrooms\", \"garageSpaces\", \n",
    "                            \"pool\", \"isNewConstruction\", \"state_CA\", \"state_GA\"])\n",
    "X_valid_sub = X_valid.filter([\"livingArea\", \"bathrooms\", \"bedrooms\", \"garageSpaces\", \n",
    "                            \"pool\", \"isNewConstruction\", \"state_CA\", \"state_GA\"])"
   ]
  },
  {
   "cell_type": "code",
   "execution_count": 48,
   "metadata": {},
   "outputs": [
    {
     "name": "stdout",
     "output_type": "stream",
     "text": [
      " Mean Squared Error : 1627688565616.9204 \n",
      " Score : 0.34260 \n",
      "\n"
     ]
    }
   ],
   "source": [
    "# KNN with default setting\n",
    "knn4 = KNeighborsRegressor()\n",
    "knn4.fit(X_train_sub, y_train)\n",
    "\n",
    "knn4_score = knn4.score(X_valid_sub, y_valid)\n",
    "knn4_preds = knn2.predict(X_valid)\n",
    "\n",
    "print(\n",
    "    f\" Mean Squared Error : {mean_squared_error(y_valid, knn4_preds)} \\n\"\n",
    "    f\" Score : {knn4_score:.5f} \\n\",\n",
    ")"
   ]
  },
  {
   "cell_type": "markdown",
   "metadata": {},
   "source": [
    "### Baseline model with optimized hyperparamters using grid search"
   ]
  },
  {
   "cell_type": "code",
   "execution_count": 35,
   "metadata": {},
   "outputs": [
    {
     "name": "stdout",
     "output_type": "stream",
     "text": [
      " Mean Squared Error : 3252744670495.3506 \n",
      " Score : 0.34961 \n",
      "\n"
     ]
    }
   ],
   "source": [
    "# KNN with optimized parameters\n",
    "knn5 = KNeighborsRegressor(n_neighbors = 14, weights = 'distance', metric = 'minkowski', p = 2)\n",
    "knn5.fit(X_train_sub, y_train)\n",
    "\n",
    "knn5_score = knn5.score(X_valid_sub, y_valid)\n",
    "knn5_preds = knn2.predict(X_valid)\n",
    "\n",
    "print(\n",
    "    f\" Mean Squared Error : {mean_squared_error(y_valid, knn5_preds)} \\n\"\n",
    "    f\" Score : {knn5_score:.5f} \\n\",\n",
    ")"
   ]
  }
 ],
 "metadata": {
  "interpreter": {
   "hash": "b5ac5e08ce62d121e07a1d4fa1bf09afe1a72871fda0686362050c3d0296ad75"
  },
  "kernelspec": {
   "display_name": "Python 3.9.7 ('base')",
   "language": "python",
   "name": "python3"
  },
  "language_info": {
   "codemirror_mode": {
    "name": "ipython",
    "version": 3
   },
   "file_extension": ".py",
   "mimetype": "text/x-python",
   "name": "python",
   "nbconvert_exporter": "python",
   "pygments_lexer": "ipython3",
   "version": "3.9.7"
  },
  "orig_nbformat": 4
 },
 "nbformat": 4,
 "nbformat_minor": 2
}
