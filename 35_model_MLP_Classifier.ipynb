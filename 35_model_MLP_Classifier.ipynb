{
  "cells": [
    {
      "cell_type": "markdown",
      "metadata": {
        "id": "4hcOjd9iEB_L"
      },
      "source": [
        "# **Neural Network**\n",
        "\n",
        "In the process of selecting a model\n",
        "taking Neural Network to the test to see whether it works better with our data. "
      ]
    },
    {
      "cell_type": "code",
      "execution_count": null,
      "metadata": {
        "id": "F5ClK6yd-Ly3"
      },
      "outputs": [],
      "source": [
        "# Importing Packages\n",
        "\n",
        "import pandas as pd\n",
        "import numpy as np\n",
        "from scipy.stats import loguniform\n",
        "from sklearn.metrics import mean_squared_error\n",
        "from sklearn.neural_network import MLPRegressor\n",
        "from sklearn.neural_network import MLPClassifier\n",
        "from sklearn.model_selection import GridSearchCV\n",
        "from sklearn.model_selection import RandomizedSearchCV\n"
      ]
    },
    {
      "cell_type": "markdown",
      "metadata": {
        "id": "Y3AJ_lOMqPYm"
      },
      "source": [
        "# Reading Trained and Validation Files\n"
      ]
    },
    {
      "cell_type": "code",
      "execution_count": null,
      "metadata": {
        "id": "OoJNQcaVz2aZ"
      },
      "outputs": [],
      "source": [
        "#importing the data\n",
        "from pathlib import Path\n",
        "PARENT = \"Predicing_House_Prices\"\n",
        "path = Path(PARENT).parent / \"../Data/X_train_model2.csv\"\n",
        "X_train = pd.read_csv(path)\n",
        "\n",
        "path2 = Path(PARENT).parent / \"../Data/X_valid_model2.csv\"\n",
        "X_valid = pd.read_csv(path2)\n",
        "\n",
        "path3 = Path(PARENT).parent / \"../Data/y_train_model2.csv\"\n",
        "y_train = pd.read_csv(path3)\n",
        "\n",
        "path4 = Path(PARENT).parent / \"../Data/y_valid_model2.csv\"\n",
        "y_valid = pd.read_csv(path4)"
      ]
    },
    {
      "cell_type": "code",
      "execution_count": null,
      "metadata": {
        "colab": {
          "base_uri": "https://localhost:8080/",
          "height": 505
        },
        "id": "9eytDtS4nZ1d",
        "outputId": "8c1cd490-3ae6-4cae-9188-1446ee4aeed3"
      },
      "outputs": [
        {
          "data": {
            "text/html": [
              "<div>\n",
              "<style scoped>\n",
              "    .dataframe tbody tr th:only-of-type {\n",
              "        vertical-align: middle;\n",
              "    }\n",
              "\n",
              "    .dataframe tbody tr th {\n",
              "        vertical-align: top;\n",
              "    }\n",
              "\n",
              "    .dataframe thead th {\n",
              "        text-align: right;\n",
              "    }\n",
              "</style>\n",
              "<table border=\"1\" class=\"dataframe\">\n",
              "  <thead>\n",
              "    <tr style=\"text-align: right;\">\n",
              "      <th></th>\n",
              "      <th>Unnamed: 0</th>\n",
              "      <th>yearBuilt</th>\n",
              "      <th>livingArea</th>\n",
              "      <th>bathrooms</th>\n",
              "      <th>bedrooms</th>\n",
              "      <th>parking</th>\n",
              "      <th>garageSpaces</th>\n",
              "      <th>hasGarage</th>\n",
              "      <th>pool</th>\n",
              "      <th>spa</th>\n",
              "      <th>...</th>\n",
              "      <th>county_Wayne County</th>\n",
              "      <th>county_Wheeler County</th>\n",
              "      <th>county_White County</th>\n",
              "      <th>county_Whitfield County</th>\n",
              "      <th>county_Wilcox County</th>\n",
              "      <th>county_Wilkes County</th>\n",
              "      <th>county_Wilkinson County</th>\n",
              "      <th>county_Worth County</th>\n",
              "      <th>county_Yolo County</th>\n",
              "      <th>county_Yuba County</th>\n",
              "    </tr>\n",
              "  </thead>\n",
              "  <tbody>\n",
              "    <tr>\n",
              "      <th>0</th>\n",
              "      <td>9284</td>\n",
              "      <td>-0.668783</td>\n",
              "      <td>0.000888</td>\n",
              "      <td>0.203613</td>\n",
              "      <td>0.479148</td>\n",
              "      <td>1</td>\n",
              "      <td>1.536971</td>\n",
              "      <td>1</td>\n",
              "      <td>1</td>\n",
              "      <td>1</td>\n",
              "      <td>...</td>\n",
              "      <td>0</td>\n",
              "      <td>0</td>\n",
              "      <td>0</td>\n",
              "      <td>0</td>\n",
              "      <td>0</td>\n",
              "      <td>0</td>\n",
              "      <td>0</td>\n",
              "      <td>0</td>\n",
              "      <td>0</td>\n",
              "      <td>0</td>\n",
              "    </tr>\n",
              "    <tr>\n",
              "      <th>1</th>\n",
              "      <td>8342</td>\n",
              "      <td>0.367706</td>\n",
              "      <td>-0.020547</td>\n",
              "      <td>-0.529300</td>\n",
              "      <td>-0.344171</td>\n",
              "      <td>1</td>\n",
              "      <td>0.726645</td>\n",
              "      <td>1</td>\n",
              "      <td>0</td>\n",
              "      <td>0</td>\n",
              "      <td>...</td>\n",
              "      <td>0</td>\n",
              "      <td>0</td>\n",
              "      <td>0</td>\n",
              "      <td>0</td>\n",
              "      <td>0</td>\n",
              "      <td>0</td>\n",
              "      <td>0</td>\n",
              "      <td>0</td>\n",
              "      <td>0</td>\n",
              "      <td>0</td>\n",
              "    </tr>\n",
              "    <tr>\n",
              "      <th>2</th>\n",
              "      <td>9766</td>\n",
              "      <td>0.091309</td>\n",
              "      <td>-0.018169</td>\n",
              "      <td>-0.529300</td>\n",
              "      <td>-0.344171</td>\n",
              "      <td>1</td>\n",
              "      <td>-0.894006</td>\n",
              "      <td>0</td>\n",
              "      <td>0</td>\n",
              "      <td>0</td>\n",
              "      <td>...</td>\n",
              "      <td>0</td>\n",
              "      <td>0</td>\n",
              "      <td>0</td>\n",
              "      <td>0</td>\n",
              "      <td>0</td>\n",
              "      <td>0</td>\n",
              "      <td>0</td>\n",
              "      <td>0</td>\n",
              "      <td>0</td>\n",
              "      <td>0</td>\n",
              "    </tr>\n",
              "    <tr>\n",
              "      <th>3</th>\n",
              "      <td>4098</td>\n",
              "      <td>-1.981668</td>\n",
              "      <td>-0.013462</td>\n",
              "      <td>-1.262212</td>\n",
              "      <td>-0.344171</td>\n",
              "      <td>1</td>\n",
              "      <td>-0.894006</td>\n",
              "      <td>1</td>\n",
              "      <td>0</td>\n",
              "      <td>0</td>\n",
              "      <td>...</td>\n",
              "      <td>0</td>\n",
              "      <td>0</td>\n",
              "      <td>0</td>\n",
              "      <td>0</td>\n",
              "      <td>0</td>\n",
              "      <td>0</td>\n",
              "      <td>0</td>\n",
              "      <td>0</td>\n",
              "      <td>0</td>\n",
              "      <td>0</td>\n",
              "    </tr>\n",
              "    <tr>\n",
              "      <th>4</th>\n",
              "      <td>30641</td>\n",
              "      <td>0.885950</td>\n",
              "      <td>-0.016182</td>\n",
              "      <td>-0.529300</td>\n",
              "      <td>0.479148</td>\n",
              "      <td>1</td>\n",
              "      <td>-0.894006</td>\n",
              "      <td>1</td>\n",
              "      <td>0</td>\n",
              "      <td>0</td>\n",
              "      <td>...</td>\n",
              "      <td>0</td>\n",
              "      <td>0</td>\n",
              "      <td>0</td>\n",
              "      <td>0</td>\n",
              "      <td>0</td>\n",
              "      <td>0</td>\n",
              "      <td>0</td>\n",
              "      <td>0</td>\n",
              "      <td>0</td>\n",
              "      <td>0</td>\n",
              "    </tr>\n",
              "    <tr>\n",
              "      <th>...</th>\n",
              "      <td>...</td>\n",
              "      <td>...</td>\n",
              "      <td>...</td>\n",
              "      <td>...</td>\n",
              "      <td>...</td>\n",
              "      <td>...</td>\n",
              "      <td>...</td>\n",
              "      <td>...</td>\n",
              "      <td>...</td>\n",
              "      <td>...</td>\n",
              "      <td>...</td>\n",
              "      <td>...</td>\n",
              "      <td>...</td>\n",
              "      <td>...</td>\n",
              "      <td>...</td>\n",
              "      <td>...</td>\n",
              "      <td>...</td>\n",
              "      <td>...</td>\n",
              "      <td>...</td>\n",
              "      <td>...</td>\n",
              "      <td>...</td>\n",
              "    </tr>\n",
              "    <tr>\n",
              "      <th>15246</th>\n",
              "      <td>17360</td>\n",
              "      <td>0.402255</td>\n",
              "      <td>-0.027144</td>\n",
              "      <td>-1.262212</td>\n",
              "      <td>-1.167490</td>\n",
              "      <td>1</td>\n",
              "      <td>-0.083681</td>\n",
              "      <td>1</td>\n",
              "      <td>0</td>\n",
              "      <td>1</td>\n",
              "      <td>...</td>\n",
              "      <td>0</td>\n",
              "      <td>0</td>\n",
              "      <td>0</td>\n",
              "      <td>0</td>\n",
              "      <td>0</td>\n",
              "      <td>0</td>\n",
              "      <td>0</td>\n",
              "      <td>0</td>\n",
              "      <td>0</td>\n",
              "      <td>0</td>\n",
              "    </tr>\n",
              "    <tr>\n",
              "      <th>15247</th>\n",
              "      <td>12676</td>\n",
              "      <td>0.989599</td>\n",
              "      <td>-0.006018</td>\n",
              "      <td>-0.529300</td>\n",
              "      <td>-0.344171</td>\n",
              "      <td>1</td>\n",
              "      <td>-0.894006</td>\n",
              "      <td>0</td>\n",
              "      <td>0</td>\n",
              "      <td>0</td>\n",
              "      <td>...</td>\n",
              "      <td>0</td>\n",
              "      <td>0</td>\n",
              "      <td>0</td>\n",
              "      <td>0</td>\n",
              "      <td>0</td>\n",
              "      <td>0</td>\n",
              "      <td>0</td>\n",
              "      <td>0</td>\n",
              "      <td>0</td>\n",
              "      <td>0</td>\n",
              "    </tr>\n",
              "    <tr>\n",
              "      <th>15248</th>\n",
              "      <td>22820</td>\n",
              "      <td>0.920500</td>\n",
              "      <td>-0.003624</td>\n",
              "      <td>0.203613</td>\n",
              "      <td>-1.167490</td>\n",
              "      <td>1</td>\n",
              "      <td>-0.894006</td>\n",
              "      <td>0</td>\n",
              "      <td>0</td>\n",
              "      <td>1</td>\n",
              "      <td>...</td>\n",
              "      <td>0</td>\n",
              "      <td>0</td>\n",
              "      <td>0</td>\n",
              "      <td>0</td>\n",
              "      <td>0</td>\n",
              "      <td>0</td>\n",
              "      <td>0</td>\n",
              "      <td>0</td>\n",
              "      <td>0</td>\n",
              "      <td>1</td>\n",
              "    </tr>\n",
              "    <tr>\n",
              "      <th>15249</th>\n",
              "      <td>16493</td>\n",
              "      <td>-0.806981</td>\n",
              "      <td>-0.020531</td>\n",
              "      <td>-0.529300</td>\n",
              "      <td>-0.344171</td>\n",
              "      <td>1</td>\n",
              "      <td>0.726645</td>\n",
              "      <td>1</td>\n",
              "      <td>0</td>\n",
              "      <td>0</td>\n",
              "      <td>...</td>\n",
              "      <td>0</td>\n",
              "      <td>0</td>\n",
              "      <td>0</td>\n",
              "      <td>0</td>\n",
              "      <td>0</td>\n",
              "      <td>0</td>\n",
              "      <td>0</td>\n",
              "      <td>0</td>\n",
              "      <td>0</td>\n",
              "      <td>0</td>\n",
              "    </tr>\n",
              "    <tr>\n",
              "      <th>15250</th>\n",
              "      <td>31385</td>\n",
              "      <td>0.194958</td>\n",
              "      <td>0.021850</td>\n",
              "      <td>0.936526</td>\n",
              "      <td>1.302468</td>\n",
              "      <td>0</td>\n",
              "      <td>-0.894006</td>\n",
              "      <td>1</td>\n",
              "      <td>0</td>\n",
              "      <td>0</td>\n",
              "      <td>...</td>\n",
              "      <td>0</td>\n",
              "      <td>0</td>\n",
              "      <td>0</td>\n",
              "      <td>0</td>\n",
              "      <td>0</td>\n",
              "      <td>0</td>\n",
              "      <td>0</td>\n",
              "      <td>0</td>\n",
              "      <td>0</td>\n",
              "      <td>0</td>\n",
              "    </tr>\n",
              "  </tbody>\n",
              "</table>\n",
              "<p>15251 rows × 1725 columns</p>\n",
              "</div>"
            ],
            "text/plain": [
              "       Unnamed: 0  yearBuilt  livingArea  bathrooms  bedrooms  parking  \\\n",
              "0            9284  -0.668783    0.000888   0.203613  0.479148        1   \n",
              "1            8342   0.367706   -0.020547  -0.529300 -0.344171        1   \n",
              "2            9766   0.091309   -0.018169  -0.529300 -0.344171        1   \n",
              "3            4098  -1.981668   -0.013462  -1.262212 -0.344171        1   \n",
              "4           30641   0.885950   -0.016182  -0.529300  0.479148        1   \n",
              "...           ...        ...         ...        ...       ...      ...   \n",
              "15246       17360   0.402255   -0.027144  -1.262212 -1.167490        1   \n",
              "15247       12676   0.989599   -0.006018  -0.529300 -0.344171        1   \n",
              "15248       22820   0.920500   -0.003624   0.203613 -1.167490        1   \n",
              "15249       16493  -0.806981   -0.020531  -0.529300 -0.344171        1   \n",
              "15250       31385   0.194958    0.021850   0.936526  1.302468        0   \n",
              "\n",
              "       garageSpaces  hasGarage  pool  spa  ...  county_Wayne County  \\\n",
              "0          1.536971          1     1    1  ...                    0   \n",
              "1          0.726645          1     0    0  ...                    0   \n",
              "2         -0.894006          0     0    0  ...                    0   \n",
              "3         -0.894006          1     0    0  ...                    0   \n",
              "4         -0.894006          1     0    0  ...                    0   \n",
              "...             ...        ...   ...  ...  ...                  ...   \n",
              "15246     -0.083681          1     0    1  ...                    0   \n",
              "15247     -0.894006          0     0    0  ...                    0   \n",
              "15248     -0.894006          0     0    1  ...                    0   \n",
              "15249      0.726645          1     0    0  ...                    0   \n",
              "15250     -0.894006          1     0    0  ...                    0   \n",
              "\n",
              "       county_Wheeler County  county_White County  county_Whitfield County  \\\n",
              "0                          0                    0                        0   \n",
              "1                          0                    0                        0   \n",
              "2                          0                    0                        0   \n",
              "3                          0                    0                        0   \n",
              "4                          0                    0                        0   \n",
              "...                      ...                  ...                      ...   \n",
              "15246                      0                    0                        0   \n",
              "15247                      0                    0                        0   \n",
              "15248                      0                    0                        0   \n",
              "15249                      0                    0                        0   \n",
              "15250                      0                    0                        0   \n",
              "\n",
              "       county_Wilcox County  county_Wilkes County  county_Wilkinson County  \\\n",
              "0                         0                     0                        0   \n",
              "1                         0                     0                        0   \n",
              "2                         0                     0                        0   \n",
              "3                         0                     0                        0   \n",
              "4                         0                     0                        0   \n",
              "...                     ...                   ...                      ...   \n",
              "15246                     0                     0                        0   \n",
              "15247                     0                     0                        0   \n",
              "15248                     0                     0                        0   \n",
              "15249                     0                     0                        0   \n",
              "15250                     0                     0                        0   \n",
              "\n",
              "       county_Worth County  county_Yolo County  county_Yuba County  \n",
              "0                        0                   0                   0  \n",
              "1                        0                   0                   0  \n",
              "2                        0                   0                   0  \n",
              "3                        0                   0                   0  \n",
              "4                        0                   0                   0  \n",
              "...                    ...                 ...                 ...  \n",
              "15246                    0                   0                   0  \n",
              "15247                    0                   0                   0  \n",
              "15248                    0                   0                   1  \n",
              "15249                    0                   0                   0  \n",
              "15250                    0                   0                   0  \n",
              "\n",
              "[15251 rows x 1725 columns]"
            ]
          },
          "execution_count": 6,
          "metadata": {},
          "output_type": "execute_result"
        }
      ],
      "source": [
        "# Checking y_train features\n",
        "X_train"
      ]
    },
    {
      "cell_type": "code",
      "execution_count": null,
      "metadata": {
        "colab": {
          "base_uri": "https://localhost:8080/"
        },
        "id": "7fFg8sHZ9u6-",
        "outputId": "63823a8d-2c12-4605-8013-7284f8aba5d1"
      },
      "outputs": [
        {
          "data": {
            "text/plain": [
              "15251"
            ]
          },
          "execution_count": 7,
          "metadata": {},
          "output_type": "execute_result"
        }
      ],
      "source": [
        "# Checking length of X_train\n",
        "len(X_train)"
      ]
    },
    {
      "cell_type": "markdown",
      "source": [
        "## Dropping Unamed Columns for the Data"
      ],
      "metadata": {
        "id": "vWC6-qSp0rTb"
      }
    },
    {
      "cell_type": "code",
      "execution_count": null,
      "metadata": {
        "id": "4NEmT2we-LzC"
      },
      "outputs": [],
      "source": [
        "# Dropping Unamed Columns\n",
        "X_train = X_train.drop(columns=\"Unnamed: 0\")\n",
        "X_valid = X_valid.drop(columns=\"Unnamed: 0\")\n",
        "y_train = y_train.drop(columns=\"Unnamed: 0\")\n",
        "y_valid = y_valid.drop(columns=\"Unnamed: 0\")"
      ]
    },
    {
      "cell_type": "code",
      "execution_count": null,
      "metadata": {
        "colab": {
          "base_uri": "https://localhost:8080/",
          "height": 411
        },
        "id": "Ambrb0Xpwb8_",
        "outputId": "23f5a14e-69c1-4e08-d4c9-d6c437a7040d"
      },
      "outputs": [
        {
          "data": {
            "text/html": [
              "<div>\n",
              "<style scoped>\n",
              "    .dataframe tbody tr th:only-of-type {\n",
              "        vertical-align: middle;\n",
              "    }\n",
              "\n",
              "    .dataframe tbody tr th {\n",
              "        vertical-align: top;\n",
              "    }\n",
              "\n",
              "    .dataframe thead th {\n",
              "        text-align: right;\n",
              "    }\n",
              "</style>\n",
              "<table border=\"1\" class=\"dataframe\">\n",
              "  <thead>\n",
              "    <tr style=\"text-align: right;\">\n",
              "      <th></th>\n",
              "      <th>yearBuilt</th>\n",
              "      <th>livingArea</th>\n",
              "      <th>bathrooms</th>\n",
              "      <th>bedrooms</th>\n",
              "      <th>parking</th>\n",
              "      <th>garageSpaces</th>\n",
              "      <th>hasGarage</th>\n",
              "      <th>pool</th>\n",
              "      <th>spa</th>\n",
              "      <th>isNewConstruction</th>\n",
              "      <th>...</th>\n",
              "      <th>county_Wayne County</th>\n",
              "      <th>county_Wheeler County</th>\n",
              "      <th>county_White County</th>\n",
              "      <th>county_Whitfield County</th>\n",
              "      <th>county_Wilcox County</th>\n",
              "      <th>county_Wilkes County</th>\n",
              "      <th>county_Wilkinson County</th>\n",
              "      <th>county_Worth County</th>\n",
              "      <th>county_Yolo County</th>\n",
              "      <th>county_Yuba County</th>\n",
              "    </tr>\n",
              "  </thead>\n",
              "  <tbody>\n",
              "    <tr>\n",
              "      <th>count</th>\n",
              "      <td>6537.000000</td>\n",
              "      <td>6537.000000</td>\n",
              "      <td>6537.000000</td>\n",
              "      <td>6537.000000</td>\n",
              "      <td>6537.000000</td>\n",
              "      <td>6537.000000</td>\n",
              "      <td>6537.000000</td>\n",
              "      <td>6537.000000</td>\n",
              "      <td>6537.000000</td>\n",
              "      <td>6537.000000</td>\n",
              "      <td>...</td>\n",
              "      <td>6537.000000</td>\n",
              "      <td>6537.000000</td>\n",
              "      <td>6537.000000</td>\n",
              "      <td>6537.000000</td>\n",
              "      <td>6537.000000</td>\n",
              "      <td>6537.000000</td>\n",
              "      <td>6537.000000</td>\n",
              "      <td>6537.000000</td>\n",
              "      <td>6537.000000</td>\n",
              "      <td>6537.000000</td>\n",
              "    </tr>\n",
              "    <tr>\n",
              "      <th>mean</th>\n",
              "      <td>-0.003228</td>\n",
              "      <td>-0.006875</td>\n",
              "      <td>-0.000329</td>\n",
              "      <td>0.001178</td>\n",
              "      <td>0.769772</td>\n",
              "      <td>0.003339</td>\n",
              "      <td>0.587578</td>\n",
              "      <td>0.134465</td>\n",
              "      <td>0.177910</td>\n",
              "      <td>0.030442</td>\n",
              "      <td>...</td>\n",
              "      <td>0.000765</td>\n",
              "      <td>0.000306</td>\n",
              "      <td>0.000612</td>\n",
              "      <td>0.003365</td>\n",
              "      <td>0.000153</td>\n",
              "      <td>0.000612</td>\n",
              "      <td>0.000306</td>\n",
              "      <td>0.000459</td>\n",
              "      <td>0.003518</td>\n",
              "      <td>0.002754</td>\n",
              "    </tr>\n",
              "    <tr>\n",
              "      <th>std</th>\n",
              "      <td>1.006085</td>\n",
              "      <td>0.025320</td>\n",
              "      <td>0.992459</td>\n",
              "      <td>0.986828</td>\n",
              "      <td>0.421011</td>\n",
              "      <td>1.005247</td>\n",
              "      <td>0.492308</td>\n",
              "      <td>0.341178</td>\n",
              "      <td>0.382467</td>\n",
              "      <td>0.171814</td>\n",
              "      <td>...</td>\n",
              "      <td>0.027648</td>\n",
              "      <td>0.017490</td>\n",
              "      <td>0.024731</td>\n",
              "      <td>0.057919</td>\n",
              "      <td>0.012368</td>\n",
              "      <td>0.024731</td>\n",
              "      <td>0.017490</td>\n",
              "      <td>0.021419</td>\n",
              "      <td>0.059216</td>\n",
              "      <td>0.052406</td>\n",
              "    </tr>\n",
              "    <tr>\n",
              "      <th>min</th>\n",
              "      <td>-6.093072</td>\n",
              "      <td>-0.041445</td>\n",
              "      <td>-1.262212</td>\n",
              "      <td>-1.990809</td>\n",
              "      <td>0.000000</td>\n",
              "      <td>-0.894006</td>\n",
              "      <td>0.000000</td>\n",
              "      <td>0.000000</td>\n",
              "      <td>0.000000</td>\n",
              "      <td>0.000000</td>\n",
              "      <td>...</td>\n",
              "      <td>0.000000</td>\n",
              "      <td>0.000000</td>\n",
              "      <td>0.000000</td>\n",
              "      <td>0.000000</td>\n",
              "      <td>0.000000</td>\n",
              "      <td>0.000000</td>\n",
              "      <td>0.000000</td>\n",
              "      <td>0.000000</td>\n",
              "      <td>0.000000</td>\n",
              "      <td>0.000000</td>\n",
              "    </tr>\n",
              "    <tr>\n",
              "      <th>25%</th>\n",
              "      <td>-0.668783</td>\n",
              "      <td>-0.020694</td>\n",
              "      <td>-0.529300</td>\n",
              "      <td>-0.344171</td>\n",
              "      <td>1.000000</td>\n",
              "      <td>-0.894006</td>\n",
              "      <td>0.000000</td>\n",
              "      <td>0.000000</td>\n",
              "      <td>0.000000</td>\n",
              "      <td>0.000000</td>\n",
              "      <td>...</td>\n",
              "      <td>0.000000</td>\n",
              "      <td>0.000000</td>\n",
              "      <td>0.000000</td>\n",
              "      <td>0.000000</td>\n",
              "      <td>0.000000</td>\n",
              "      <td>0.000000</td>\n",
              "      <td>0.000000</td>\n",
              "      <td>0.000000</td>\n",
              "      <td>0.000000</td>\n",
              "      <td>0.000000</td>\n",
              "    </tr>\n",
              "    <tr>\n",
              "      <th>50%</th>\n",
              "      <td>0.091309</td>\n",
              "      <td>-0.012452</td>\n",
              "      <td>-0.529300</td>\n",
              "      <td>-0.344171</td>\n",
              "      <td>1.000000</td>\n",
              "      <td>-0.083681</td>\n",
              "      <td>1.000000</td>\n",
              "      <td>0.000000</td>\n",
              "      <td>0.000000</td>\n",
              "      <td>0.000000</td>\n",
              "      <td>...</td>\n",
              "      <td>0.000000</td>\n",
              "      <td>0.000000</td>\n",
              "      <td>0.000000</td>\n",
              "      <td>0.000000</td>\n",
              "      <td>0.000000</td>\n",
              "      <td>0.000000</td>\n",
              "      <td>0.000000</td>\n",
              "      <td>0.000000</td>\n",
              "      <td>0.000000</td>\n",
              "      <td>0.000000</td>\n",
              "    </tr>\n",
              "    <tr>\n",
              "      <th>75%</th>\n",
              "      <td>0.782301</td>\n",
              "      <td>-0.000236</td>\n",
              "      <td>0.203613</td>\n",
              "      <td>0.479148</td>\n",
              "      <td>1.000000</td>\n",
              "      <td>0.726645</td>\n",
              "      <td>1.000000</td>\n",
              "      <td>0.000000</td>\n",
              "      <td>0.000000</td>\n",
              "      <td>0.000000</td>\n",
              "      <td>...</td>\n",
              "      <td>0.000000</td>\n",
              "      <td>0.000000</td>\n",
              "      <td>0.000000</td>\n",
              "      <td>0.000000</td>\n",
              "      <td>0.000000</td>\n",
              "      <td>0.000000</td>\n",
              "      <td>0.000000</td>\n",
              "      <td>0.000000</td>\n",
              "      <td>0.000000</td>\n",
              "      <td>0.000000</td>\n",
              "    </tr>\n",
              "    <tr>\n",
              "      <th>max</th>\n",
              "      <td>1.576942</td>\n",
              "      <td>0.610073</td>\n",
              "      <td>12.663129</td>\n",
              "      <td>8.712339</td>\n",
              "      <td>1.000000</td>\n",
              "      <td>16.933163</td>\n",
              "      <td>1.000000</td>\n",
              "      <td>1.000000</td>\n",
              "      <td>1.000000</td>\n",
              "      <td>1.000000</td>\n",
              "      <td>...</td>\n",
              "      <td>1.000000</td>\n",
              "      <td>1.000000</td>\n",
              "      <td>1.000000</td>\n",
              "      <td>1.000000</td>\n",
              "      <td>1.000000</td>\n",
              "      <td>1.000000</td>\n",
              "      <td>1.000000</td>\n",
              "      <td>1.000000</td>\n",
              "      <td>1.000000</td>\n",
              "      <td>1.000000</td>\n",
              "    </tr>\n",
              "  </tbody>\n",
              "</table>\n",
              "<p>8 rows × 1724 columns</p>\n",
              "</div>"
            ],
            "text/plain": [
              "         yearBuilt   livingArea    bathrooms     bedrooms      parking  \\\n",
              "count  6537.000000  6537.000000  6537.000000  6537.000000  6537.000000   \n",
              "mean     -0.003228    -0.006875    -0.000329     0.001178     0.769772   \n",
              "std       1.006085     0.025320     0.992459     0.986828     0.421011   \n",
              "min      -6.093072    -0.041445    -1.262212    -1.990809     0.000000   \n",
              "25%      -0.668783    -0.020694    -0.529300    -0.344171     1.000000   \n",
              "50%       0.091309    -0.012452    -0.529300    -0.344171     1.000000   \n",
              "75%       0.782301    -0.000236     0.203613     0.479148     1.000000   \n",
              "max       1.576942     0.610073    12.663129     8.712339     1.000000   \n",
              "\n",
              "       garageSpaces    hasGarage         pool          spa  isNewConstruction  \\\n",
              "count   6537.000000  6537.000000  6537.000000  6537.000000        6537.000000   \n",
              "mean       0.003339     0.587578     0.134465     0.177910           0.030442   \n",
              "std        1.005247     0.492308     0.341178     0.382467           0.171814   \n",
              "min       -0.894006     0.000000     0.000000     0.000000           0.000000   \n",
              "25%       -0.894006     0.000000     0.000000     0.000000           0.000000   \n",
              "50%       -0.083681     1.000000     0.000000     0.000000           0.000000   \n",
              "75%        0.726645     1.000000     0.000000     0.000000           0.000000   \n",
              "max       16.933163     1.000000     1.000000     1.000000           1.000000   \n",
              "\n",
              "       ...  county_Wayne County  county_Wheeler County  county_White County  \\\n",
              "count  ...          6537.000000            6537.000000          6537.000000   \n",
              "mean   ...             0.000765               0.000306             0.000612   \n",
              "std    ...             0.027648               0.017490             0.024731   \n",
              "min    ...             0.000000               0.000000             0.000000   \n",
              "25%    ...             0.000000               0.000000             0.000000   \n",
              "50%    ...             0.000000               0.000000             0.000000   \n",
              "75%    ...             0.000000               0.000000             0.000000   \n",
              "max    ...             1.000000               1.000000             1.000000   \n",
              "\n",
              "       county_Whitfield County  county_Wilcox County  county_Wilkes County  \\\n",
              "count              6537.000000           6537.000000           6537.000000   \n",
              "mean                  0.003365              0.000153              0.000612   \n",
              "std                   0.057919              0.012368              0.024731   \n",
              "min                   0.000000              0.000000              0.000000   \n",
              "25%                   0.000000              0.000000              0.000000   \n",
              "50%                   0.000000              0.000000              0.000000   \n",
              "75%                   0.000000              0.000000              0.000000   \n",
              "max                   1.000000              1.000000              1.000000   \n",
              "\n",
              "       county_Wilkinson County  county_Worth County  county_Yolo County  \\\n",
              "count              6537.000000          6537.000000         6537.000000   \n",
              "mean                  0.000306             0.000459            0.003518   \n",
              "std                   0.017490             0.021419            0.059216   \n",
              "min                   0.000000             0.000000            0.000000   \n",
              "25%                   0.000000             0.000000            0.000000   \n",
              "50%                   0.000000             0.000000            0.000000   \n",
              "75%                   0.000000             0.000000            0.000000   \n",
              "max                   1.000000             1.000000            1.000000   \n",
              "\n",
              "       county_Yuba County  \n",
              "count         6537.000000  \n",
              "mean             0.002754  \n",
              "std              0.052406  \n",
              "min              0.000000  \n",
              "25%              0.000000  \n",
              "50%              0.000000  \n",
              "75%              0.000000  \n",
              "max              1.000000  \n",
              "\n",
              "[8 rows x 1724 columns]"
            ]
          },
          "execution_count": 9,
          "metadata": {},
          "output_type": "execute_result"
        }
      ],
      "source": [
        "X_valid.describe()"
      ]
    },
    {
      "cell_type": "code",
      "execution_count": null,
      "metadata": {
        "colab": {
          "base_uri": "https://localhost:8080/"
        },
        "id": "nNQADeyqD-QL",
        "outputId": "f774b944-ff5f-4cfe-cb35-9537dbffee25"
      },
      "outputs": [
        {
          "data": {
            "text/plain": [
              "False"
            ]
          },
          "execution_count": 10,
          "metadata": {},
          "output_type": "execute_result"
        }
      ],
      "source": [
        "# Checking Null Values\n",
        "X_train.isnull().values.any()"
      ]
    },
    {
      "cell_type": "markdown",
      "source": [
        "# Neural Network with manually tuned parameter's."
      ],
      "metadata": {
        "id": "hx08c7I_1U8b"
      }
    },
    {
      "cell_type": "code",
      "execution_count": null,
      "metadata": {
        "colab": {
          "base_uri": "https://localhost:8080/"
        },
        "id": "SQ2NIpUw-LzD",
        "outputId": "5c535dba-74cb-42c7-cb68-d5c29295b698"
      },
      "outputs": [
        {
          "name": "stderr",
          "output_type": "stream",
          "text": [
            "/Users/rachelrichards/opt/miniconda3/lib/python3.9/site-packages/sklearn/neural_network/_multilayer_perceptron.py:1599: DataConversionWarning: A column-vector y was passed when a 1d array was expected. Please change the shape of y to (n_samples, ), for example using ravel().\n",
            "  y = column_or_1d(y, warn=True)\n",
            "/Users/rachelrichards/opt/miniconda3/lib/python3.9/site-packages/sklearn/neural_network/_multilayer_perceptron.py:692: ConvergenceWarning: Stochastic Optimizer: Maximum iterations (500) reached and the optimization hasn't converged yet.\n",
            "  warnings.warn(\n"
          ]
        }
      ],
      "source": [
        "# Fitting X_train and y_train to MLp Regressor\n",
        "mlp =  MLPRegressor(learning_rate_init = 0.03,\n",
        "                    hidden_layer_sizes = (30,30),\n",
        "                    solver = 'adam',\n",
        "                    tol = 1e-5,\n",
        "                    activation = 'relu',\n",
        "                    n_iter_no_change = 500,\n",
        "                    batch_size = 50,random_state=0,max_iter=500).fit(X_train, y_train)\n"
      ]
    },
    {
      "cell_type": "code",
      "execution_count": null,
      "metadata": {
        "id": "xTMVo--4C5rh"
      },
      "outputs": [],
      "source": [
        "# Predict through X_Validation\n",
        "predict_y= mlp.predict(X_valid)"
      ]
    },
    {
      "cell_type": "code",
      "execution_count": null,
      "metadata": {
        "id": "YKcV5jkj0fmI",
        "outputId": "94372ad7-4317-4b61-be4a-34c8b203cefb"
      },
      "outputs": [
        {
          "data": {
            "text/plain": [
              "array([ 751475.98250899,  313147.48656198, 1267248.20340648, ...,\n",
              "       3075326.04033611,  577950.56290122, 2231312.67144682])"
            ]
          },
          "execution_count": 13,
          "metadata": {},
          "output_type": "execute_result"
        }
      ],
      "source": [
        "predict_y"
      ]
    },
    {
      "cell_type": "code",
      "execution_count": null,
      "metadata": {
        "id": "TGpNOYsJG57a",
        "outputId": "5c15e558-920f-43ab-cafd-326fda970ec6"
      },
      "outputs": [
        {
          "name": "stdout",
          "output_type": "stream",
          "text": [
            "The Mean Squared Error is 1432532.38\n",
            "R Squared 0.394\n"
          ]
        }
      ],
      "source": [
        "# Getting Our RMSE and R Squared\n",
        "print(\"The Mean Squared Error is %.2f\"%(np.sqrt(mean_squared_error(y_valid, predict_y))))\n",
        "print(\"R Squared %.3f\" % (mlp.score(X_valid, y_valid)))"
      ]
    },
    {
      "cell_type": "markdown",
      "metadata": {
        "id": "fWT1Z-liDv7_"
      },
      "source": [
        "# Filtering out the feature to see if there is improvement in scores."
      ]
    },
    {
      "cell_type": "code",
      "execution_count": null,
      "metadata": {
        "id": "ly_ELSH0H5kY"
      },
      "outputs": [],
      "source": [
        "# Dropping unused features\n",
        "X_train1 = X_train.filter([\"livingArea\", \"bathrooms\", \"bedrooms\", \"garageSpaces\", \n",
        "\"pool\", \"isNewConstruction\", \"state_CA\", \"state_GA\"])\n",
        "X_valid1 = X_valid.filter([\"livingArea\", \"bathrooms\", \"bedrooms\", \"garageSpaces\", \n",
        "\"pool\", \"isNewConstruction\", \"state_CA\", \"state_GA\"])\n",
        "\n"
      ]
    },
    {
      "cell_type": "code",
      "execution_count": null,
      "metadata": {
        "id": "53NgaLorKLNB",
        "outputId": "169cdf9f-c91b-4e69-b654-dc659801f33e"
      },
      "outputs": [
        {
          "name": "stderr",
          "output_type": "stream",
          "text": [
            "/Users/rachelrichards/opt/miniconda3/lib/python3.9/site-packages/sklearn/neural_network/_multilayer_perceptron.py:1599: DataConversionWarning: A column-vector y was passed when a 1d array was expected. Please change the shape of y to (n_samples, ), for example using ravel().\n",
            "  y = column_or_1d(y, warn=True)\n"
          ]
        }
      ],
      "source": [
        "# Applying manual parameter tuning with useful data\n",
        "mlp2=MLPRegressor(learning_rate_init = 0.3,\n",
        "                    hidden_layer_sizes = (20,),\n",
        "                    alpha = 0.0001,\n",
        "                    solver = 'adam',\n",
        "                    tol = 1e-5,\n",
        "                    early_stopping = False,\n",
        "                    activation = 'relu',\n",
        "                    n_iter_no_change = 100,\n",
        "                    batch_size = 500,random_state=0,max_iter=5000).fit(X_train1, y_train)"
      ]
    },
    {
      "cell_type": "code",
      "execution_count": null,
      "metadata": {
        "id": "0EmAbHI-wh5I"
      },
      "outputs": [],
      "source": [
        "# Predict through new filtered X_Validation\n",
        "predict_y2= mlp2.predict(X_valid1)"
      ]
    },
    {
      "cell_type": "code",
      "execution_count": null,
      "metadata": {
        "colab": {
          "base_uri": "https://localhost:8080/"
        },
        "id": "zuSzCokX1XH0",
        "outputId": "9a885b02-2db5-4217-ef7a-d57a1a90c713"
      },
      "outputs": [
        {
          "data": {
            "text/plain": [
              "array([ 505077.63970791,  424974.96437383,  767325.94752574, ...,\n",
              "       1792891.82414828,  486110.6276955 , 1520769.79237614])"
            ]
          },
          "execution_count": 18,
          "metadata": {},
          "output_type": "execute_result"
        }
      ],
      "source": [
        "predict_y2"
      ]
    },
    {
      "cell_type": "code",
      "execution_count": null,
      "metadata": {
        "colab": {
          "base_uri": "https://localhost:8080/"
        },
        "id": "5CIUfSdo1l1N",
        "outputId": "78bcd8a9-d7ee-4b30-a847-e00822de8a12"
      },
      "outputs": [
        {
          "name": "stdout",
          "output_type": "stream",
          "text": [
            "The Mean Squared Error is 1308824.72 \n",
            "R Squared 0.49393\n"
          ]
        }
      ],
      "source": [
        "# Getting Our RMSE and R Squared\n",
        "print(\"The Mean Squared Error is %.2f \"%(np.sqrt(mean_squared_error(y_valid, predict_y2))))\n",
        "print(\"R Squared %.5f\" % (mlp2.score(X_valid1, y_valid)))"
      ]
    },
    {
      "cell_type": "markdown",
      "source": [
        "# Trying to use Grid search and Random Search to get optimal parameter\n",
        "\n",
        "The cell had to be interrupted since it had taken 24 hours to run and was still operating had to go with alternative option which is manually tuned parameters. "
      ],
      "metadata": {
        "id": "ztI4pF3Nz-97"
      }
    },
    {
      "cell_type": "code",
      "execution_count": null,
      "metadata": {
        "id": "0YIXaD17D5VG"
      },
      "outputs": [],
      "source": [
        "# Trying to use Grid search and get optimal parameter\n",
        "mlp_gs = MLPRegressor(max_iter=500)\n",
        "parameter_space = {\n",
        "    'hidden_layer_sizes': [(10,30,10),(20,)],\n",
        "    'activation': ['tanh', 'relu'],\n",
        "    'solver': ['sgd', 'adam'],\n",
        "    'alpha': [0.0001, 0.05],\n",
        "    'learning_rate': ['constant','adaptive'],\n",
        "}\n",
        "\n",
        "clf = GridSearchCV(mlp_gs, parameter_space, n_jobs=-1, cv=5)\n",
        "clf.fit(X_train, y_train) # X is train samples and y is the corresponding labels\n",
        "\n",
        "# Trying to use Random search and get optimal parameter\n",
        "classifier = MLPRegressor(solver = 'sgd',tol = 1e-5,early_stopping = False,activation = 'relu',n_iter_no_change = 1000,random_state=1,max_iter=1000)\n",
        "distributions = {'learning_rate_init':loguniform(0.0001,1),'hidden_layer_sizes':[(2,2), (5,5), (30,30)],'alpha':loguniform(1e-8,1e2),'batch_size':[1,3,5,10,20,50,100,250,500]}\n",
        "randomclf = RandomizedSearchCV(classifier, distributions)\n",
        "randomclf.fit(X_train, y_train)\n",
        "randomclf.best_params_\n"
      ]
    }
  ],
  "metadata": {
    "colab": {
      "name": "54_MLP_Classifier.ipynb",
      "provenance": []
    },
    "interpreter": {
      "hash": "b5ac5e08ce62d121e07a1d4fa1bf09afe1a72871fda0686362050c3d0296ad75"
    },
    "kernelspec": {
      "display_name": "Python 3.9.7 ('base')",
      "language": "python",
      "name": "python3"
    },
    "language_info": {
      "codemirror_mode": {
        "name": "ipython",
        "version": 3
      },
      "file_extension": ".py",
      "mimetype": "text/x-python",
      "name": "python",
      "nbconvert_exporter": "python",
      "pygments_lexer": "ipython3",
      "version": "3.9.7"
    }
  },
  "nbformat": 4,
  "nbformat_minor": 0
}