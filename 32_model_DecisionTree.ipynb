{
 "cells": [
  {
   "cell_type": "markdown",
   "metadata": {},
   "source": [
    "## Decision Tree\n",
    "\n",
    "Check the performances of the model using Decision Tree.\n",
    "\n",
    "1. with default setting\n",
    "2. with optimized hyperparamters using grid search\n",
    "3. with best max_depth"
   ]
  },
  {
   "cell_type": "code",
   "execution_count": 45,
   "metadata": {},
   "outputs": [],
   "source": [
    "import pandas as pd\n",
    "import numpy as np\n",
    "from pathlib import Path\n",
    "import warnings\n",
    "warnings.filterwarnings('ignore')"
   ]
  },
  {
   "cell_type": "code",
   "execution_count": 46,
   "metadata": {},
   "outputs": [],
   "source": [
    "# import data\n",
    "PARENT = \"Predicting_House_Prices\"\n",
    "path = Path(PARENT).parent / \"../Data/X_train_model2.csv\"\n",
    "X_train = pd.read_csv(path)\n",
    "\n",
    "path2 = Path(PARENT).parent / \"../Data/X_valid_model2.csv\"\n",
    "X_valid = pd.read_csv(path2)\n",
    "\n",
    "path3 = Path(PARENT).parent / \"../Data/y_train_model2.csv\"\n",
    "y_train = pd.read_csv(path3)\n",
    "\n",
    "path4 = Path(PARENT).parent / \"../Data/y_valid_model2.csv\"\n",
    "y_valid = pd.read_csv(path4)"
   ]
  },
  {
   "cell_type": "code",
   "execution_count": 47,
   "metadata": {},
   "outputs": [],
   "source": [
    "X_train = X_train.drop(columns=\"Unnamed: 0\")\n",
    "X_valid = X_valid.drop(columns=\"Unnamed: 0\")\n",
    "y_train = y_train.drop(columns=\"Unnamed: 0\")\n",
    "y_valid = y_valid.drop(columns=\"Unnamed: 0\")"
   ]
  },
  {
   "cell_type": "code",
   "execution_count": 5,
   "metadata": {},
   "outputs": [
    {
     "name": "stdout",
     "output_type": "stream",
     "text": [
      "(15421, 1759) (6609, 1759)\n"
     ]
    }
   ],
   "source": [
    "print(X_train.shape, X_valid.shape)"
   ]
  },
  {
   "cell_type": "markdown",
   "metadata": {},
   "source": [
    "### with default setting"
   ]
  },
  {
   "cell_type": "code",
   "execution_count": 48,
   "metadata": {},
   "outputs": [
    {
     "name": "stdout",
     "output_type": "stream",
     "text": [
      " Mean Squared Error : 2671867113435.0376 \n",
      " Score : 0.21066 \n",
      "\n"
     ]
    }
   ],
   "source": [
    "from sklearn.tree import DecisionTreeRegressor\n",
    "from sklearn.metrics import mean_squared_error\n",
    "\n",
    "dtree = DecisionTreeRegressor()\n",
    "dtree.fit(X_train, y_train)\n",
    "\n",
    "dtree_score = dtree.score(X_valid, y_valid)\n",
    "dtree_preds = dtree.predict(X_valid)\n",
    "\n",
    "print(\n",
    "    f\" Mean Squared Error : {mean_squared_error(y_valid, dtree_preds)} \\n\"\n",
    "    f\" Score : {dtree_score:.5f} \\n\",\n",
    ")"
   ]
  },
  {
   "cell_type": "code",
   "execution_count": 54,
   "metadata": {},
   "outputs": [
    {
     "data": {
      "text/plain": [
       "1634584.6914231877"
      ]
     },
     "execution_count": 54,
     "metadata": {},
     "output_type": "execute_result"
    }
   ],
   "source": [
    "(mean_squared_error(y_valid, dtree_preds))**0.5"
   ]
  },
  {
   "cell_type": "markdown",
   "metadata": {},
   "source": [
    "### with optimized hyperparameters using grid search"
   ]
  },
  {
   "cell_type": "code",
   "execution_count": 39,
   "metadata": {},
   "outputs": [
    {
     "name": "stdout",
     "output_type": "stream",
     "text": [
      "4575 4575\n"
     ]
    }
   ],
   "source": [
    "from sklearn.model_selection import train_test_split\n",
    "\n",
    "# 30% of training data is used for hyperparameter tuning for efficient search\n",
    "X_temp, _, y_temp, _ = train_test_split(X_train, y_train, random_state=0, test_size=0.7)\n",
    "print(len(X_temp), len(y_temp))"
   ]
  },
  {
   "cell_type": "code",
   "execution_count": 40,
   "metadata": {},
   "outputs": [
    {
     "data": {
      "text/plain": [
       "{'max_depth': 7,\n",
       " 'max_features': 'auto',\n",
       " 'max_leaf_nodes': None,\n",
       " 'min_samples_leaf': 1,\n",
       " 'min_weight_fraction_leaf': 0.1,\n",
       " 'splitter': 'best'}"
      ]
     },
     "execution_count": 40,
     "metadata": {},
     "output_type": "execute_result"
    }
   ],
   "source": [
    "from sklearn.model_selection import GridSearchCV\n",
    "\n",
    "# List Hyperparameters\n",
    "parameters={\"splitter\":[\"best\",\"random\"],\n",
    "            \"max_depth\" : [1,3,5,7,9,11,12],\n",
    "            \"min_samples_leaf\":[1,2,3,4,5,6,7,8,9,10],\n",
    "            \"min_weight_fraction_leaf\":[0.1,0.2,0.3,0.4,0.5,0.6,0.7,0.8,0.9],\n",
    "            \"max_features\":[\"auto\",\"log2\",\"sqrt\",None],\n",
    "            \"max_leaf_nodes\":[None,10,20,30,40,50,60,70,80,90] }\n",
    "\n",
    "# Create new KNN object\n",
    "dtree2 = DecisionTreeRegressor()\n",
    "\n",
    "# Use GridSearch\n",
    "clf = GridSearchCV(dtree2, param_grid=parameters, scoring='neg_mean_squared_error', cv=3)\n",
    "\n",
    "# Fit the model\n",
    "best_model = clf.fit(X_temp, y_temp)\n",
    "\n",
    "# Print The value of best Hyperparameters\n",
    "best_model.best_params_"
   ]
  },
  {
   "cell_type": "code",
   "execution_count": 49,
   "metadata": {},
   "outputs": [
    {
     "name": "stdout",
     "output_type": "stream",
     "text": [
      " Mean Squared Error : 2783654474621.3984 \n",
      " Score : 0.17764 \n",
      "\n"
     ]
    }
   ],
   "source": [
    "# decision tree with optimized parameters\n",
    "dtree2 = DecisionTreeRegressor(max_depth=7, max_features='auto', max_leaf_nodes=None, \n",
    "                                min_samples_leaf=1, min_weight_fraction_leaf=0.1, splitter='best')\n",
    "dtree2.fit(X_train, y_train)\n",
    "\n",
    "dtree2_score = dtree2.score(X_valid, y_valid)\n",
    "dtree2_preds = dtree2.predict(X_valid)\n",
    "\n",
    "print(\n",
    "    f\" Mean Squared Error : {mean_squared_error(y_valid, dtree2_preds)} \\n\"\n",
    "    f\" Score : {dtree2_score:.5f} \\n\",\n",
    ")"
   ]
  },
  {
   "cell_type": "code",
   "execution_count": 50,
   "metadata": {},
   "outputs": [
    {
     "name": "stdout",
     "output_type": "stream",
     "text": [
      " Mean Squared Error : 2803488084008.795 \n",
      " Score : 0.17178 \n",
      "\n"
     ]
    }
   ],
   "source": [
    "# decision tree with optimized parameters explored before changing preprocessing\n",
    "dtree3 = DecisionTreeRegressor(max_depth=3, max_features=None, max_leaf_nodes=None, \n",
    "                                min_samples_leaf=1, min_weight_fraction_leaf=0.1, splitter='best')\n",
    "dtree3.fit(X_train, y_train)\n",
    "\n",
    "dtree3_score = dtree3.score(X_valid, y_valid)\n",
    "dtree3_preds = dtree3.predict(X_valid)\n",
    "\n",
    "print(\n",
    "    f\" Mean Squared Error : {mean_squared_error(y_valid, dtree3_preds)} \\n\"\n",
    "    f\" Score : {dtree3_score:.5f} \\n\",\n",
    ")"
   ]
  },
  {
   "cell_type": "code",
   "execution_count": 10,
   "metadata": {},
   "outputs": [
    {
     "name": "stdout",
     "output_type": "stream",
     "text": [
      " Score : 0.01513 \n",
      "\n"
     ]
    }
   ],
   "source": [
    "dtree4 = DecisionTreeRegressor(max_depth=8, max_features=None, max_leaf_nodes=None, \n",
    "                                min_samples_leaf=1, min_weight_fraction_leaf=0.1, splitter='best')\n",
    "dtree4.fit(X_train, y_train)\n",
    "\n",
    "dtree4_score = dtree4.score(X_valid, y_valid)\n",
    "dtree4_preds = dtree4.predict(X_valid)\n",
    "\n",
    "print(\n",
    "    f\" Mean Squared Error : {mean_squared_error(y_valid, dtree4_preds)} \\n\"\n",
    "    f\" Score : {dtree4_score:.5f} \\n\",\n",
    ")"
   ]
  },
  {
   "cell_type": "markdown",
   "metadata": {},
   "source": [
    "## with best max_depth"
   ]
  },
  {
   "cell_type": "code",
   "execution_count": 51,
   "metadata": {},
   "outputs": [
    {
     "name": "stdout",
     "output_type": "stream",
     "text": [
      "The Training Accuracy for max_depth 1 is: 0.21790021892812983\n",
      "The Validation Accuracy for max_depth 1 is: 0.2418158880413822\n",
      "\n",
      "The Training Accuracy for max_depth 2 is: 0.3845693203644871\n",
      "The Validation Accuracy for max_depth 2 is: 0.34907186117044753\n",
      "\n",
      "The Training Accuracy for max_depth 3 is: 0.47784422576501473\n",
      "The Validation Accuracy for max_depth 3 is: 0.2194162580625283\n",
      "\n",
      "The Training Accuracy for max_depth 4 is: 0.5561482959882471\n",
      "The Validation Accuracy for max_depth 4 is: 0.2651151350321991\n",
      "\n",
      "The Training Accuracy for max_depth 5 is: 0.6716371648272204\n",
      "The Validation Accuracy for max_depth 5 is: 0.287952815171007\n",
      "\n",
      "The Training Accuracy for max_depth 6 is: 0.7248498007812829\n",
      "The Validation Accuracy for max_depth 6 is: 0.24526496884070936\n",
      "\n",
      "The Training Accuracy for max_depth 7 is: 0.7721397248337589\n",
      "The Validation Accuracy for max_depth 7 is: 0.20821641376818012\n",
      "\n",
      "The Training Accuracy for max_depth 8 is: 0.8120714420253415\n",
      "The Validation Accuracy for max_depth 8 is: 0.2713134800048109\n",
      "\n",
      "The Training Accuracy for max_depth 9 is: 0.8402853529498537\n",
      "The Validation Accuracy for max_depth 9 is: 0.29709065138392954\n",
      "\n",
      "The Training Accuracy for max_depth 10 is: 0.8678214117334639\n",
      "The Validation Accuracy for max_depth 10 is: 0.3293080758686311\n",
      "\n",
      "The Training Accuracy for max_depth 11 is: 0.8896060866095729\n",
      "The Validation Accuracy for max_depth 11 is: 0.33653036175842765\n",
      "\n",
      "The Training Accuracy for max_depth 12 is: 0.9082368842034373\n",
      "The Validation Accuracy for max_depth 12 is: 0.24214189828483612\n",
      "\n",
      "The Training Accuracy for max_depth 13 is: 0.9211604714817417\n",
      "The Validation Accuracy for max_depth 13 is: 0.23185693712752609\n",
      "\n",
      "The Training Accuracy for max_depth 14 is: 0.9305859011919091\n",
      "The Validation Accuracy for max_depth 14 is: 0.30529448310802043\n",
      "\n",
      "The Training Accuracy for max_depth 15 is: 0.937718175056233\n",
      "The Validation Accuracy for max_depth 15 is: 0.28946494608294804\n",
      "\n",
      "The Training Accuracy for max_depth 16 is: 0.9457546008020107\n",
      "The Validation Accuracy for max_depth 16 is: 0.2309643248994686\n",
      "\n",
      "The Training Accuracy for max_depth 17 is: 0.951138149696031\n",
      "The Validation Accuracy for max_depth 17 is: 0.28820868951811285\n",
      "\n",
      "The Training Accuracy for max_depth 18 is: 0.9572938887160981\n",
      "The Validation Accuracy for max_depth 18 is: 0.22156463067375953\n",
      "\n",
      "The Training Accuracy for max_depth 19 is: 0.9616896728860834\n",
      "The Validation Accuracy for max_depth 19 is: 0.3066062012769184\n",
      "\n",
      "The Training Accuracy for max_depth 20 is: 0.9661269932481616\n",
      "The Validation Accuracy for max_depth 20 is: 0.29427855343152365\n",
      "\n",
      "The Training Accuracy for max_depth 21 is: 0.9703705825038935\n",
      "The Validation Accuracy for max_depth 21 is: 0.22105154718681785\n",
      "\n",
      "The Training Accuracy for max_depth 22 is: 0.9731425624751772\n",
      "The Validation Accuracy for max_depth 22 is: 0.22467206015737806\n",
      "\n",
      "The Training Accuracy for max_depth 23 is: 0.9757638519207397\n",
      "The Validation Accuracy for max_depth 23 is: 0.3058380826091004\n",
      "\n",
      "The Training Accuracy for max_depth 24 is: 0.9790440704563533\n",
      "The Validation Accuracy for max_depth 24 is: 0.3163434325460033\n",
      "\n",
      "The Training Accuracy for max_depth 25 is: 0.9811589605775166\n",
      "The Validation Accuracy for max_depth 25 is: 0.21922655173412453\n",
      "\n",
      "The Training Accuracy for max_depth 26 is: 0.9831953505561262\n",
      "The Validation Accuracy for max_depth 26 is: 0.21917647527233552\n",
      "\n",
      "The Training Accuracy for max_depth 27 is: 0.984911690689347\n",
      "The Validation Accuracy for max_depth 27 is: 0.31882189722534837\n",
      "\n",
      "The Training Accuracy for max_depth 28 is: 0.9865507277086104\n",
      "The Validation Accuracy for max_depth 28 is: 0.3159260342358994\n",
      "\n",
      "The Training Accuracy for max_depth 29 is: 0.9882358379748648\n",
      "The Validation Accuracy for max_depth 29 is: 0.29348907540734503\n",
      "\n",
      "The Training Accuracy for max_depth 30 is: 0.9897739097353568\n",
      "The Validation Accuracy for max_depth 30 is: 0.2231867302380397\n",
      "\n"
     ]
    }
   ],
   "source": [
    "# only explore 'max_depth'\n",
    "for max_d in range(1,31):\n",
    "  model = DecisionTreeRegressor(max_depth=max_d, random_state=42)\n",
    "  model.fit(X_train, y_train)\n",
    "  print('The Training Accuracy for max_depth {} is:'.format(max_d), model.score(X_train, y_train))\n",
    "  print('The Validation Accuracy for max_depth {} is:'.format(max_d), model.score(X_valid, y_valid))\n",
    "  print('')"
   ]
  },
  {
   "cell_type": "code",
   "execution_count": 52,
   "metadata": {},
   "outputs": [
    {
     "name": "stdout",
     "output_type": "stream",
     "text": [
      " Mean Squared Error : 2203360682072.455 \n",
      " Score : 0.34907 \n",
      "\n"
     ]
    }
   ],
   "source": [
    "# decision tree with best max_depth\n",
    "dtree5 = DecisionTreeRegressor(max_depth=2)\n",
    "dtree5.fit(X_train, y_train)\n",
    "\n",
    "dtree5_score = dtree5.score(X_valid, y_valid)\n",
    "dtree5_preds = dtree5.predict(X_valid)\n",
    "\n",
    "print(\n",
    "    f\" Mean Squared Error : {mean_squared_error(y_valid, dtree5_preds)} \\n\"\n",
    "    f\" Score : {dtree5_score:.5f} \\n\",\n",
    ")"
   ]
  },
  {
   "cell_type": "code",
   "execution_count": 55,
   "metadata": {},
   "outputs": [
    {
     "data": {
      "text/plain": [
       "1484372.1508006188"
      ]
     },
     "execution_count": 55,
     "metadata": {},
     "output_type": "execute_result"
    }
   ],
   "source": [
    "(mean_squared_error(y_valid, dtree5_preds))**0.5"
   ]
  },
  {
   "cell_type": "code",
   "execution_count": null,
   "metadata": {},
   "outputs": [],
   "source": []
  }
 ],
 "metadata": {
  "interpreter": {
   "hash": "b5ac5e08ce62d121e07a1d4fa1bf09afe1a72871fda0686362050c3d0296ad75"
  },
  "kernelspec": {
   "display_name": "Python 3.9.7 ('base')",
   "language": "python",
   "name": "python3"
  },
  "language_info": {
   "codemirror_mode": {
    "name": "ipython",
    "version": 3
   },
   "file_extension": ".py",
   "mimetype": "text/x-python",
   "name": "python",
   "nbconvert_exporter": "python",
   "pygments_lexer": "ipython3",
   "version": "3.9.7"
  },
  "orig_nbformat": 4
 },
 "nbformat": 4,
 "nbformat_minor": 2
}
